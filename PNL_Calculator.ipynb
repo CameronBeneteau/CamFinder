{
  "nbformat": 4,
  "nbformat_minor": 0,
  "metadata": {
    "colab": {
      "provenance": [],
      "include_colab_link": true
    },
    "kernelspec": {
      "name": "python3",
      "display_name": "Python 3"
    },
    "language_info": {
      "name": "python"
    }
  },
  "cells": [
    {
      "cell_type": "markdown",
      "metadata": {
        "id": "view-in-github",
        "colab_type": "text"
      },
      "source": [
        "<a href=\"https://colab.research.google.com/github/CameronBeneteau/CamFinder/blob/main/PNL_Calculator.ipynb\" target=\"_parent\"><img src=\"https://colab.research.google.com/assets/colab-badge.svg\" alt=\"Open In Colab\"/></a>"
      ]
    },
    {
      "cell_type": "code",
      "execution_count": null,
      "metadata": {
        "id": "D2Ad0glOhogu"
      },
      "outputs": [],
      "source": [
        "import yfinance as yf\n",
        "import pandas as pd\n",
        "from datetime import datetime, timedelta\n",
        "\n",
        "class TradeSimulator:\n",
        "\n",
        "    def __init__(self, ticker):\n",
        "\n",
        "        self.ticker = ticker\n",
        "        self.entry_price = None\n",
        "        self.exit_price = None\n",
        "        self.data = None\n",
        "\n",
        "    def get_last_trading_day(self):\n",
        "\n",
        "        today = datetime.now()\n",
        "        offset = max(1,(today.weekday() + 6) % 7 -3)\n",
        "        last_trading_day = today - timedelta(days=offset)\n",
        "        return last_trading_day\n",
        "\n",
        "    def getData(self):\n",
        "\n",
        "        last_trading_day = self.get_last_trading_day()\n",
        "        start_date = (last_trading_day - timedelta(days=1)).strftime('%Y-%m-%d')\n",
        "        end_date = (last_trading_day + timedelta(days=1)).strftime('%Y-%m-%d')\n",
        "        self.data = yf.download(self.ticker, start=start_date, end=end_date, interval = '5m' )\n",
        "        self.data = self.data.loc[last_trading_day.strftime('%Y-%m-%d')]\n",
        "\n",
        "    def startTrade(self):\n",
        "\n",
        "        self.entry_price = self.data['Open'].iloc[0]\n",
        "\n",
        "    def exitTrade(self):\n",
        "\n",
        "        for i, row in self.data.iterrows():\n",
        "\n",
        "            current_price = row['Open']\n",
        "            if current_price <= self.entry_price - (self.entry_price * 0.01) or current_price >= self.entry_price + (self.entry_price * 0.02):\n",
        "                self.exit_price = current_price\n",
        "                return\n",
        "\n",
        "        self.exit_price = self.data['Close'].iloc[-1]\n",
        "\n",
        "    def calculatePNL(self):\n",
        "\n",
        "        return self.exit_price - self.entry_price\n",
        "\n",
        "    def executeTrade(self):\n",
        "\n",
        "        self.getData()\n",
        "        self.startTrade()\n",
        "        self.exitTrade()\n",
        "\n",
        "        return {'Entry Price': self.entry_price, 'Exit Price': self.exit_price, 'PnL': self.calculatePNL()}\n",
        "\n",
        "ticker = 'NVDA'\n",
        "simulator = TradeSimulator(ticker)\n",
        "result = simulator.executeTrade()\n",
        "print(result)\n",
        "# Random"
      ]
    }
  ]
}